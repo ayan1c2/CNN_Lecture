{
 "cells": [
  {
   "cell_type": "code",
   "execution_count": 1,
   "id": "6596e8a5-0c53-4f94-97a2-e933c0b97604",
   "metadata": {},
   "outputs": [
    {
     "name": "stdout",
     "output_type": "stream",
     "text": [
      "Downloading from https://www.kaggle.com/api/v1/datasets/download/kausthubkannan/5-flower-types-classification-dataset?dataset_version_number=1...\n"
     ]
    },
    {
     "name": "stderr",
     "output_type": "stream",
     "text": [
      "100%|███████████████████████████████████████████████████████████████████████████████| 242M/242M [00:32<00:00, 7.81MB/s]"
     ]
    },
    {
     "name": "stdout",
     "output_type": "stream",
     "text": [
      "Extracting files...\n"
     ]
    },
    {
     "name": "stderr",
     "output_type": "stream",
     "text": [
      "\n"
     ]
    },
    {
     "name": "stdout",
     "output_type": "stream",
     "text": [
      "Path to dataset files: C:\\Users\\ayan\\.cache\\kagglehub\\datasets\\kausthubkannan\\5-flower-types-classification-dataset\\versions\\1\n"
     ]
    }
   ],
   "source": [
    "import kagglehub\n",
    "\n",
    "# Download latest version\n",
    "path = kagglehub.dataset_download(\"kausthubkannan/5-flower-types-classification-dataset\")\n",
    "\n",
    "print(\"Path to dataset files:\", path)"
   ]
  },
  {
   "cell_type": "code",
   "execution_count": null,
   "id": "b9435e3d-974d-4b7d-b986-8ccb4be52ae7",
   "metadata": {},
   "outputs": [],
   "source": [
    "# Apply Multi-class classification with Transfer Learning or your own model"
   ]
  },
  {
   "cell_type": "code",
   "execution_count": null,
   "id": "89e621af-a6bf-4cf1-9609-cd76a335bb34",
   "metadata": {},
   "outputs": [],
   "source": [
    "# Use Yolo on some images"
   ]
  },
  {
   "cell_type": "code",
   "execution_count": null,
   "id": "e1c42d75-dbea-4f1b-800c-46b8db02b3de",
   "metadata": {},
   "outputs": [],
   "source": [
    "# Use U-Net on some images for Semantic Segmentation"
   ]
  }
 ],
 "metadata": {
  "kernelspec": {
   "display_name": "Python 3 (ipykernel)",
   "language": "python",
   "name": "python3"
  },
  "language_info": {
   "codemirror_mode": {
    "name": "ipython",
    "version": 3
   },
   "file_extension": ".py",
   "mimetype": "text/x-python",
   "name": "python",
   "nbconvert_exporter": "python",
   "pygments_lexer": "ipython3",
   "version": "3.12.0"
  }
 },
 "nbformat": 4,
 "nbformat_minor": 5
}
