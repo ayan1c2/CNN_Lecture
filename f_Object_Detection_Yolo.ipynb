{
 "cells": [
  {
   "cell_type": "code",
   "execution_count": 1,
   "id": "f2924833-0de4-46c1-9e43-3e4da88743a0",
   "metadata": {},
   "outputs": [],
   "source": [
    "#!pip install ultralytics"
   ]
  },
  {
   "cell_type": "code",
   "execution_count": 1,
   "id": "cc2b0063-53ba-43bb-9c92-c38a76178949",
   "metadata": {},
   "outputs": [],
   "source": [
    "from ultralytics import YOLO # YOLO is one of the fastest object detection models\n",
    "\n",
    "# Load YOLOv8 model pretrained on COCO dataset\n",
    "# The COCO (Common Objects in Context) dataset is a large-scale dataset for object detection, segmentation, and captioning, \n",
    "# containing 330K images with 80 object categories. \n",
    "\n",
    "model = YOLO(\"yolov8s.pt\") # YOLOv8 is the latest and most optimized version and works for both images and videos\n",
    "\n",
    "# \"yolov8s.pt\" is the small version of YOLOv8. Other sizes: yolov8n.pt (nano), yolov8m.pt (medium), yolov8l.pt (large), yolov8x.pt (extra-large)"
   ]
  },
  {
   "cell_type": "code",
   "execution_count": 2,
   "id": "83220f66-4737-4086-b89a-35470e196d25",
   "metadata": {},
   "outputs": [
    {
     "name": "stdout",
     "output_type": "stream",
     "text": [
      "\n",
      "image 1/1 C:\\Users\\ayan\\OneDrive - NILU\\Desktop\\Teaching\\Guest\\CNN_Lecture\\objects\\dog_bike_car.jpg: 480x640 1 bicycle, 1 truck, 1 dog, 754.9ms\n",
      "Speed: 3.9ms preprocess, 754.9ms inference, 20.0ms postprocess per image at shape (1, 3, 480, 640)\n"
     ]
    }
   ],
   "source": [
    "#Running YOLOv8 for Object Detection in image\n",
    "# Test dataset - https://www.kaggle.com/datasets/kkhandekar/object-detection-sample-images\n",
    "\n",
    "# Run object detection on an image - 1\n",
    "results = model(\"./objects/dog_bike_car.jpg\") \n",
    "\n",
    "# Show results\n",
    "for result in results:\n",
    "        result.show()"
   ]
  },
  {
   "cell_type": "code",
   "execution_count": 3,
   "id": "6ee7293f-3fb5-4988-ba13-b5aa079d7205",
   "metadata": {},
   "outputs": [
    {
     "name": "stdout",
     "output_type": "stream",
     "text": [
      "\n",
      "image 1/1 C:\\Users\\ayan\\OneDrive - NILU\\Desktop\\Teaching\\Guest\\CNN_Lecture\\objects\\1.jpg: 448x640 1 bird, 1 cat, 1 clock, 441.0ms\n",
      "Speed: 6.0ms preprocess, 441.0ms inference, 2.0ms postprocess per image at shape (1, 3, 448, 640)\n"
     ]
    }
   ],
   "source": [
    "# Run object detection on an image - 2\n",
    "results = model(\"./objects/1.jpg\") \n",
    "\n",
    "# Show results\n",
    "for result in results:\n",
    "        result.show()"
   ]
  },
  {
   "cell_type": "code",
   "execution_count": null,
   "id": "45cff8ba-3b6e-4da7-99c5-765f49639b01",
   "metadata": {},
   "outputs": [
    {
     "name": "stdout",
     "output_type": "stream",
     "text": [
      "\n",
      "\n",
      "WARNING  inference results will accumulate in RAM unless `stream=True` is passed, causing potential out-of-memory\n",
      "errors for large sources or long-running streams and videos. See https://docs.ultralytics.com/modes/predict/ for help.\n",
      "\n",
      "Example:\n",
      "    results = model(source=..., stream=True)  # generator of Results objects\n",
      "    for r in results:\n",
      "        boxes = r.boxes  # Boxes object for bbox outputs\n",
      "        masks = r.masks  # Masks object for segment masks outputs\n",
      "        probs = r.probs  # Class probabilities for classification outputs\n",
      "\n",
      "video 1/1 (frame 1/647) C:\\Users\\ayan\\OneDrive - NILU\\Desktop\\Teaching\\Guest\\CNN_Lecture\\objects\\person-bicycle-car-detection.mp4: 384x640 (no detections), 394.3ms\n",
      "video 1/1 (frame 2/647) C:\\Users\\ayan\\OneDrive - NILU\\Desktop\\Teaching\\Guest\\CNN_Lecture\\objects\\person-bicycle-car-detection.mp4: 384x640 (no detections), 421.4ms\n",
      "video 1/1 (frame 3/647) C:\\Users\\ayan\\OneDrive - NILU\\Desktop\\Teaching\\Guest\\CNN_Lecture\\objects\\person-bicycle-car-detection.mp4: 384x640 (no detections), 390.6ms\n",
      "video 1/1 (frame 4/647) C:\\Users\\ayan\\OneDrive - NILU\\Desktop\\Teaching\\Guest\\CNN_Lecture\\objects\\person-bicycle-car-detection.mp4: 384x640 (no detections), 588.7ms\n",
      "video 1/1 (frame 5/647) C:\\Users\\ayan\\OneDrive - NILU\\Desktop\\Teaching\\Guest\\CNN_Lecture\\objects\\person-bicycle-car-detection.mp4: 384x640 (no detections), 634.1ms\n",
      "video 1/1 (frame 6/647) C:\\Users\\ayan\\OneDrive - NILU\\Desktop\\Teaching\\Guest\\CNN_Lecture\\objects\\person-bicycle-car-detection.mp4: 384x640 (no detections), 650.3ms\n",
      "video 1/1 (frame 7/647) C:\\Users\\ayan\\OneDrive - NILU\\Desktop\\Teaching\\Guest\\CNN_Lecture\\objects\\person-bicycle-car-detection.mp4: 384x640 (no detections), 648.3ms\n",
      "video 1/1 (frame 8/647) C:\\Users\\ayan\\OneDrive - NILU\\Desktop\\Teaching\\Guest\\CNN_Lecture\\objects\\person-bicycle-car-detection.mp4: 384x640 (no detections), 664.7ms\n",
      "video 1/1 (frame 9/647) C:\\Users\\ayan\\OneDrive - NILU\\Desktop\\Teaching\\Guest\\CNN_Lecture\\objects\\person-bicycle-car-detection.mp4: 384x640 (no detections), 620.8ms\n",
      "video 1/1 (frame 10/647) C:\\Users\\ayan\\OneDrive - NILU\\Desktop\\Teaching\\Guest\\CNN_Lecture\\objects\\person-bicycle-car-detection.mp4: 384x640 (no detections), 622.8ms\n",
      "video 1/1 (frame 11/647) C:\\Users\\ayan\\OneDrive - NILU\\Desktop\\Teaching\\Guest\\CNN_Lecture\\objects\\person-bicycle-car-detection.mp4: 384x640 (no detections), 745.1ms\n",
      "video 1/1 (frame 12/647) C:\\Users\\ayan\\OneDrive - NILU\\Desktop\\Teaching\\Guest\\CNN_Lecture\\objects\\person-bicycle-car-detection.mp4: 384x640 (no detections), 670.6ms\n",
      "video 1/1 (frame 13/647) C:\\Users\\ayan\\OneDrive - NILU\\Desktop\\Teaching\\Guest\\CNN_Lecture\\objects\\person-bicycle-car-detection.mp4: 384x640 (no detections), 569.6ms\n",
      "video 1/1 (frame 14/647) C:\\Users\\ayan\\OneDrive - NILU\\Desktop\\Teaching\\Guest\\CNN_Lecture\\objects\\person-bicycle-car-detection.mp4: 384x640 (no detections), 569.5ms\n",
      "video 1/1 (frame 15/647) C:\\Users\\ayan\\OneDrive - NILU\\Desktop\\Teaching\\Guest\\CNN_Lecture\\objects\\person-bicycle-car-detection.mp4: 384x640 (no detections), 579.3ms\n",
      "video 1/1 (frame 16/647) C:\\Users\\ayan\\OneDrive - NILU\\Desktop\\Teaching\\Guest\\CNN_Lecture\\objects\\person-bicycle-car-detection.mp4: 384x640 1 person, 688.6ms\n"
     ]
    }
   ],
   "source": [
    "# Detect objects in a video file\n",
    "# Sample dataset: https://github.com/intel-iot-devkit/sample-videos\n",
    "\n",
    "results = model(\"./objects/person-bicycle-car-detection.mp4\", save=True)\n",
    "\n",
    "# Show only the first 10 results\n",
    "for i, result in enumerate(results[:10]):  # Limits to first 10 detections\n",
    "    result.show()"
   ]
  },
  {
   "cell_type": "code",
   "execution_count": null,
   "id": "a17740e3-8604-4779-9dd9-c8292ce6e1fb",
   "metadata": {},
   "outputs": [],
   "source": []
  }
 ],
 "metadata": {
  "kernelspec": {
   "display_name": "Python 3 (ipykernel)",
   "language": "python",
   "name": "python3"
  },
  "language_info": {
   "codemirror_mode": {
    "name": "ipython",
    "version": 3
   },
   "file_extension": ".py",
   "mimetype": "text/x-python",
   "name": "python",
   "nbconvert_exporter": "python",
   "pygments_lexer": "ipython3",
   "version": "3.12.0"
  }
 },
 "nbformat": 4,
 "nbformat_minor": 5
}
