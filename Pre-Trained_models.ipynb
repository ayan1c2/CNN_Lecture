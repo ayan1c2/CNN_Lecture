{
 "cells": [
  {
   "cell_type": "code",
   "execution_count": 2,
   "id": "3a4cc913-232d-4c5c-8b13-6951ffd0a137",
   "metadata": {},
   "outputs": [],
   "source": [
    "import tensorflow as tf\n",
    "import numpy as np\n",
    "import matplotlib.pyplot as plt\n",
    "import os\n",
    "from tensorflow.keras.applications import ResNet50, VGG16, EfficientNetB0\n",
    "from tensorflow.keras.models import Model\n",
    "from tensorflow.keras.layers import Dense, Flatten, Input\n",
    "from tensorflow.keras.preprocessing.image import ImageDataGenerator"
   ]
  },
  {
   "cell_type": "code",
   "execution_count": 3,
   "id": "620d419f-f751-4746-ac9b-a35df1742643",
   "metadata": {},
   "outputs": [
    {
     "name": "stdout",
     "output_type": "stream",
     "text": [
      "\n",
      "--- Training Image Classification Models ---\n",
      "\n"
     ]
    }
   ],
   "source": [
    "# -------------------------------\n",
    "# 1. Image Classification (ResNet, VGG, EfficientNet)\n",
    "# -------------------------------\n",
    "print(\"\\n--- Training Image Classification Models ---\\n\")\n",
    "\n",
    "# Load and preprocess the datasets (Using CIFAR-10 as example, and same can be done for MNIST and Fashion-MNIST)\n",
    "def train_classification_model(model_name, dataset):\n",
    "    if dataset == \"CIFAR10\":\n",
    "        (x_train, y_train), (x_test, y_test) = tf.keras.datasets.cifar10.load_data()\n",
    "        num_classes = 10\n",
    "    else:\n",
    "        raise ValueError(\"Dataset not supported\")\n",
    "\n",
    "    # Normalize pixel values to be between 0 and 1\n",
    "    x_train, x_test = x_train / 255.0, x_test / 255.0\n",
    "    y_train, y_test = tf.keras.utils.to_categorical(y_train, num_classes), tf.keras.utils.to_categorical(y_test, num_classes)\n",
    "    \n",
    "    if model_name == \"ResNet50\":\n",
    "        base_model = ResNet50(weights=None, input_shape=(32, 32, 3), classes=num_classes)\n",
    "    elif model_name == \"VGG16\":\n",
    "        base_model = VGG16(weights=None, input_shape=(32, 32, 3), classes=num_classes)\n",
    "    elif model_name == \"EfficientNetB0\":\n",
    "        base_model = EfficientNetB0(weights=None, input_shape=(32, 32, 3), classes=num_classes)\n",
    "    else:\n",
    "        raise ValueError(\"Model not supported\")\n",
    "    \n",
    "    #Compile the model\n",
    "    base_model.compile(optimizer='adam', loss='categorical_crossentropy', metrics=['accuracy'])\n",
    "    base_model.fit(x_train, y_train, epochs=5, validation_data=(x_test, y_test))"
   ]
  },
  {
   "cell_type": "code",
   "execution_count": 6,
   "id": "35d7e099-8eef-42e6-95bb-1fc9343080b4",
   "metadata": {},
   "outputs": [
    {
     "name": "stdout",
     "output_type": "stream",
     "text": [
      "Epoch 1/5\n",
      "\u001b[1m1563/1563\u001b[0m \u001b[32m━━━━━━━━━━━━━━━━━━━━\u001b[0m\u001b[37m\u001b[0m \u001b[1m1458s\u001b[0m 929ms/step - accuracy: 0.1010 - loss: 2.3027 - val_accuracy: 0.1000 - val_loss: 2.3026\n",
      "Epoch 2/5\n",
      "\u001b[1m1563/1563\u001b[0m \u001b[32m━━━━━━━━━━━━━━━━━━━━\u001b[0m\u001b[37m\u001b[0m \u001b[1m1430s\u001b[0m 908ms/step - accuracy: 0.0979 - loss: 2.3029 - val_accuracy: 0.1000 - val_loss: 2.3026\n",
      "Epoch 3/5\n",
      "\u001b[1m1563/1563\u001b[0m \u001b[32m━━━━━━━━━━━━━━━━━━━━\u001b[0m\u001b[37m\u001b[0m \u001b[1m1448s\u001b[0m 926ms/step - accuracy: 0.0996 - loss: 2.3028 - val_accuracy: 0.1000 - val_loss: 2.3027\n",
      "Epoch 4/5\n",
      "\u001b[1m1563/1563\u001b[0m \u001b[32m━━━━━━━━━━━━━━━━━━━━\u001b[0m\u001b[37m\u001b[0m \u001b[1m1449s\u001b[0m 918ms/step - accuracy: 0.1010 - loss: 2.3027 - val_accuracy: 0.1000 - val_loss: 2.3026\n",
      "Epoch 5/5\n",
      "\u001b[1m1563/1563\u001b[0m \u001b[32m━━━━━━━━━━━━━━━━━━━━\u001b[0m\u001b[37m\u001b[0m \u001b[1m1471s\u001b[0m 923ms/step - accuracy: 0.0965 - loss: 2.3028 - val_accuracy: 0.1000 - val_loss: 2.3026\n"
     ]
    }
   ],
   "source": [
    "#Execute\n",
    "#train_classification_model(\"ResNet50\", \"CIFAR10\")\n",
    "train_classification_model(\"VGG16\", \"CIFAR10\")\n",
    "#train_classification_model(\"EfficientNet\", \"CIFAR10\")"
   ]
  },
  {
   "cell_type": "code",
   "execution_count": null,
   "id": "c6c25a10-38d7-4807-9972-473da539ff2a",
   "metadata": {},
   "outputs": [],
   "source": []
  }
 ],
 "metadata": {
  "kernelspec": {
   "display_name": "Python 3 (ipykernel)",
   "language": "python",
   "name": "python3"
  },
  "language_info": {
   "codemirror_mode": {
    "name": "ipython",
    "version": 3
   },
   "file_extension": ".py",
   "mimetype": "text/x-python",
   "name": "python",
   "nbconvert_exporter": "python",
   "pygments_lexer": "ipython3",
   "version": "3.12.0"
  }
 },
 "nbformat": 4,
 "nbformat_minor": 5
}
